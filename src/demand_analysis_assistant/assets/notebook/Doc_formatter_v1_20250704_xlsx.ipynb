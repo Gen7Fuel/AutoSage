{
 "cells": [
  {
   "cell_type": "markdown",
   "id": "34042c0a-98ac-4181-8270-405c701993cd",
   "metadata": {},
   "source": [
    "## Import library"
   ]
  },
  {
   "cell_type": "code",
   "execution_count": 303,
   "id": "8171a01a-c460-472a-976a-5d913acb30e1",
   "metadata": {},
   "outputs": [],
   "source": [
    "import pandas as pd\n",
    "import numpy as np\n",
    "import datetime\n",
    "import warnings\n",
    "warnings.filterwarnings(\"ignore\")\n",
    "pd.set_option('display.max_columns', 500)"
   ]
  },
  {
   "cell_type": "markdown",
   "id": "a989b9fd-f31a-4701-88be-913ecd771ebc",
   "metadata": {},
   "source": [
    "## Functions"
   ]
  },
  {
   "cell_type": "code",
   "execution_count": null,
   "id": "17fe4f95-fe97-4358-bbbc-67917ce36fdf",
   "metadata": {},
   "outputs": [],
   "source": [
    "def preprocess_raw_file(dataframe):\n",
    "    dataframe['Month'] = dataframe['UPC'][dataframe['UPC'].apply(lambda x: isinstance(x, str))]\n",
    "    dataframe['UPC'] = pd.to_numeric(dataframe['UPC'], errors = 'coerce')\n",
    "    dataframe['Month'] = pd.to_datetime(dataframe['Month'], errors = 'coerce')\n",
    "    dataframe['Month'] = dataframe['Month'].fillna(method = 'ffill')\n",
    "    dataframe = dataframe[dataframe['UPC'].notnull()]\n",
    "    \n",
    "    cols_to_align = ['UPC', 'Purch QTY', 'QTY', 'QTY, On Hand']\n",
    "    for col in cols_to_align:\n",
    "        dataframe[col] = dataframe[col].apply(lambda x: int(float(x)))\n",
    "\n",
    "    dataframe['Month'] = dataframe['Month'].dt.to_period('M')\n",
    "\n",
    "    return dataframe"
   ]
  },
  {
   "cell_type": "code",
   "execution_count": 311,
   "id": "5f6fee49-b740-4ca2-985d-af1df10b7710",
   "metadata": {},
   "outputs": [],
   "source": [
    "def get_vendor_pivot_table(dataframe, vendor_name):\n",
    "    df_vendor = dataframe[dataframe['Vendor'] == vendor_name]\n",
    "    # unique_months = df_vendor['Month'].sort_values().unique()\n",
    "    min_month = df_vendor['Month'].min()\n",
    "    max_month = df_vendor['Month'].max()\n",
    "    unique_months = pd.date_range(min_month.to_timestamp().date(), max_month.to_timestamp().date(), freq='MS').to_period('M')\n",
    "    \n",
    "    df_pivot = pd.pivot_table(data = df_vendor, columns = 'Month', index = \"Item Name\", values = ['Purch QTY', 'QTY', 'QTY, On Hand'], \\\n",
    "                          aggfunc = np.sum)\n",
    "    df_pivot = df_pivot.swaplevel(axis=1).sort_index(axis=1, level=0)\n",
    "\n",
    "    # insert missing months\n",
    "    column_order = ['Purch QTY', 'QTY', 'QTY, On Hand']\n",
    "    new_columns = []\n",
    "    for month in unique_months:\n",
    "        for col_name in column_order:\n",
    "            # if (month, col_name) in df_pivot.columns:\n",
    "            new_columns.append((month, col_name))\n",
    "    # df_pivot = df_pivot[new_columns]  # Reassign with ordered columns\n",
    "    df_pivot = df_pivot.reindex(columns=new_columns)\n",
    "    df_pivot = df_pivot.fillna(0)\n",
    "    # df_pivot = df_pivot.fillna(0)\n",
    "    return df_pivot, unique_months"
   ]
  },
  {
   "cell_type": "code",
   "execution_count": 312,
   "id": "2d65fb02-ddcf-4663-881f-9bee14729afe",
   "metadata": {},
   "outputs": [],
   "source": [
    "def update_on_hand_qty(df_pivot, unique_months):\n",
    "    for current_month in unique_months:\n",
    "        if current_month == unique_months.min():\n",
    "            df_pivot[(current_month, 'QTY, On Hand')] = df_pivot[(current_month, 'Purch QTY')] - df_pivot[(current_month, 'QTY')]\n",
    "    \n",
    "        else:\n",
    "            previous_month = current_month - 1\n",
    "            df_pivot[(current_month, 'QTY, On Hand')] = df_pivot[(previous_month, 'QTY, On Hand')] +\\\n",
    "            df_pivot[(current_month, 'Purch QTY')] - df_pivot[(current_month, 'QTY')]\n",
    "\n",
    "    return df_pivot"
   ]
  },
  {
   "cell_type": "code",
   "execution_count": 313,
   "id": "c0ea5911-6a9b-4aa8-84b5-ba37050197a3",
   "metadata": {},
   "outputs": [],
   "source": [
    "def add_liq_percent(df_pivot, unique_months):\n",
    "\n",
    "    for current_month in unique_months:\n",
    "        qty = df_pivot[(current_month, 'QTY')]\n",
    "        on_hand = df_pivot[(current_month, 'QTY, On Hand')]\n",
    "        \n",
    "        with np.errstate(divide='ignore', invalid='ignore'):\n",
    "            liq_percent = qty / (qty + on_hand)\n",
    "            liq_percent[np.isinf(liq_percent)] = 0\n",
    "            liq_percent = np.nan_to_num(liq_percent, nan=0)  # handle NaNs if needed\n",
    "    \n",
    "        df_pivot[(current_month, 'LIQ %')] = liq_percent\n",
    "        column_order = ['Purch QTY', 'QTY', 'QTY, On Hand', 'LIQ %']\n",
    "\n",
    "        new_columns = []\n",
    "        for month in unique_months:\n",
    "            for col_name in column_order:\n",
    "                if (month, col_name) in df_pivot.columns:\n",
    "                    new_columns.append((month, col_name))\n",
    "        df_pivot = df_pivot[new_columns]  # Reassign with ordered columns\n",
    "        \n",
    "    return df_pivot"
   ]
  },
  {
   "cell_type": "code",
   "execution_count": 314,
   "id": "d8f1dde0-4130-4bd0-91d8-614870fe6e32",
   "metadata": {
    "scrolled": true
   },
   "outputs": [],
   "source": [
    "def add_sale_qty(df_pivot, unique_months):\n",
    "\n",
    "    for current_month in unique_months:\n",
    "        if current_month == unique_months.min():\n",
    "            df_pivot['Sale QTY'] = df_pivot[(current_month, 'QTY')]\n",
    "        else:\n",
    "            df_pivot['Sale QTY'] += df_pivot[(current_month, 'QTY')]\n",
    "    return df_pivot"
   ]
  },
  {
   "cell_type": "code",
   "execution_count": 315,
   "id": "deff290f-99a5-4ca3-8804-fa51fea58b92",
   "metadata": {},
   "outputs": [],
   "source": [
    "def add_shelf_life(df_pivot, unique_months):\n",
    "\n",
    "    df_pivot['Shelf Life'] = 0\n",
    "    for current_month in unique_months:\n",
    "        df_pivot.loc[df_pivot[(current_month, 'QTY')] > 0, 'Shelf Life'] += 1\n",
    "    return df_pivot"
   ]
  },
  {
   "cell_type": "code",
   "execution_count": 316,
   "id": "c9d91206-1edd-43c5-845e-3e775311ca3e",
   "metadata": {},
   "outputs": [],
   "source": [
    "def add_avg_sales_per_month(df_pivot):\n",
    "\n",
    "    df_pivot['Avg Sales/Mnth'] = df_pivot['Sale QTY'] / df_pivot['Shelf Life']\n",
    "    df_pivot['Avg Sales/Mnth'] = df_pivot['Avg Sales/Mnth'].fillna(0)\n",
    "    return df_pivot"
   ]
  },
  {
   "cell_type": "code",
   "execution_count": 317,
   "id": "d737a027-32f5-48de-99b5-1712d835578c",
   "metadata": {},
   "outputs": [],
   "source": [
    "def mround_excel(number, multiple):\n",
    "    import math\n",
    "    return multiple * round((number + 1e-10) / multiple) if number >= 0 else multiple * round((number - 1e-10) / multiple)"
   ]
  },
  {
   "cell_type": "code",
   "execution_count": 318,
   "id": "63a4792e-a970-4aa7-9f07-521ac2eabe30",
   "metadata": {
    "scrolled": true
   },
   "outputs": [],
   "source": [
    "def add_bi_weekly_sale_forecasting(df_pivot):\n",
    "\n",
    "    df_pivot['Bi-Weekly Sale Fsct'] = df_pivot['Avg Sales/Mnth'].apply(lambda x: mround_excel(x / 2, 1))\n",
    "\n",
    "    return df_pivot"
   ]
  },
  {
   "cell_type": "code",
   "execution_count": 319,
   "id": "61167ec8-cd32-4c0e-b80f-311109166803",
   "metadata": {},
   "outputs": [],
   "source": [
    "def add_safety_stock(df_pivot):\n",
    "\n",
    "    df_pivot['Safety STK'] = df_pivot['Bi-Weekly Sale Fsct'].apply(lambda x: mround_excel(x * 0.5, 1))\n",
    "    return df_pivot"
   ]
  },
  {
   "cell_type": "code",
   "execution_count": 320,
   "id": "de93ea94-a972-4df8-8fee-a29a6c48068d",
   "metadata": {},
   "outputs": [],
   "source": [
    "def add_order(df_pivot, latest_month):\n",
    "    df_pivot.loc[df_pivot['Safety STK'] + df_pivot['Bi-Weekly Sale Fsct'] > df_pivot[(latest_month, 'QTY, On Hand')], 'Order'] = \\\n",
    "    df_pivot['Safety STK'] + df_pivot['Bi-Weekly Sale Fsct'] - df_pivot[(latest_month, 'QTY, On Hand')]\n",
    "    df_pivot.loc[df_pivot['Safety STK'] + df_pivot['Bi-Weekly Sale Fsct'] <= df_pivot[(latest_month, 'QTY, On Hand')], 'Order'] = 0\n",
    "    return df_pivot"
   ]
  },
  {
   "cell_type": "markdown",
   "id": "0a5f898b-90c3-446d-9056-c29ebb1742ec",
   "metadata": {},
   "source": [
    "## Import file and preprocess"
   ]
  },
  {
   "cell_type": "code",
   "execution_count": 321,
   "id": "f3f6da8b-e5d6-4f75-8b09-1d88d4fc8a3e",
   "metadata": {},
   "outputs": [],
   "source": [
    "df = pd.read_excel('./src/doc_formatter/assets/data/example.xlsx', engine = 'openpyxl')"
   ]
  },
  {
   "cell_type": "code",
   "execution_count": 322,
   "id": "287eca39-0ea8-4f3a-8419-af30029e440a",
   "metadata": {},
   "outputs": [],
   "source": [
    "df.columns = df.iloc[7]"
   ]
  },
  {
   "cell_type": "code",
   "execution_count": 323,
   "id": "cd29c2c2-1e55-4c07-9d65-0ab6cde7e731",
   "metadata": {},
   "outputs": [],
   "source": [
    "df.columns.name = None"
   ]
  },
  {
   "cell_type": "code",
   "execution_count": 324,
   "id": "1a3489b9-edb3-4de2-b07d-d4c9eba63185",
   "metadata": {},
   "outputs": [],
   "source": [
    "df = df.loc[8:].reset_index(drop = True)"
   ]
  },
  {
   "cell_type": "code",
   "execution_count": 325,
   "id": "7406c8b8-7514-4488-924d-382e67e9a808",
   "metadata": {},
   "outputs": [],
   "source": [
    "df_processed = preprocess_raw_file(df)"
   ]
  },
  {
   "cell_type": "code",
   "execution_count": 326,
   "id": "bd1671cd-8441-4d45-aa23-8caad04f0a1a",
   "metadata": {
    "scrolled": true
   },
   "outputs": [
    {
     "data": {
      "text/html": [
       "<div>\n",
       "<style scoped>\n",
       "    .dataframe tbody tr th:only-of-type {\n",
       "        vertical-align: middle;\n",
       "    }\n",
       "\n",
       "    .dataframe tbody tr th {\n",
       "        vertical-align: top;\n",
       "    }\n",
       "\n",
       "    .dataframe thead th {\n",
       "        text-align: right;\n",
       "    }\n",
       "</style>\n",
       "<table border=\"1\" class=\"dataframe\">\n",
       "  <thead>\n",
       "    <tr style=\"text-align: right;\">\n",
       "      <th></th>\n",
       "      <th>UPC</th>\n",
       "      <th>Item Name</th>\n",
       "      <th>GTIN</th>\n",
       "      <th>Size</th>\n",
       "      <th>Purch QTY</th>\n",
       "      <th>Purch Amount,$</th>\n",
       "      <th>QTY</th>\n",
       "      <th>Cost,$</th>\n",
       "      <th>QTY, On Hand</th>\n",
       "      <th>Cost, On Hand,$</th>\n",
       "      <th>Retail, On Hand,$</th>\n",
       "      <th>Buydown by Purch,$</th>\n",
       "      <th>Vendor</th>\n",
       "      <th>Last Purch date</th>\n",
       "      <th>VIN</th>\n",
       "      <th>Retail,$</th>\n",
       "      <th>Unit Cost,$</th>\n",
       "      <th>Unit Retail,$</th>\n",
       "      <th>Profit,$</th>\n",
       "      <th>GPM%</th>\n",
       "      <th>Non-itemized Sales,$</th>\n",
       "      <th>Buydown by Sales,$</th>\n",
       "      <th>Total,$</th>\n",
       "      <th>Month</th>\n",
       "    </tr>\n",
       "  </thead>\n",
       "  <tbody>\n",
       "    <tr>\n",
       "      <th>1</th>\n",
       "      <td>69158402237</td>\n",
       "      <td>Stlth Type-C Black Metal</td>\n",
       "      <td>00691584022375</td>\n",
       "      <td>EA</td>\n",
       "      <td>5</td>\n",
       "      <td>37.45</td>\n",
       "      <td>0</td>\n",
       "      <td>0</td>\n",
       "      <td>0</td>\n",
       "      <td>0</td>\n",
       "      <td>0</td>\n",
       "      <td>0</td>\n",
       "      <td>Smoke Arsenal</td>\n",
       "      <td>08.30.2024</td>\n",
       "      <td>29990000001</td>\n",
       "      <td>0</td>\n",
       "      <td>0</td>\n",
       "      <td>0</td>\n",
       "      <td>0</td>\n",
       "      <td>0</td>\n",
       "      <td>0</td>\n",
       "      <td>0</td>\n",
       "      <td>0</td>\n",
       "      <td>2024-03</td>\n",
       "    </tr>\n",
       "    <tr>\n",
       "      <th>2</th>\n",
       "      <td>69158402243</td>\n",
       "      <td>Stlth Type-C Device Green Metal</td>\n",
       "      <td>00691584022436</td>\n",
       "      <td>EA</td>\n",
       "      <td>5</td>\n",
       "      <td>37.45</td>\n",
       "      <td>0</td>\n",
       "      <td>0</td>\n",
       "      <td>0</td>\n",
       "      <td>0</td>\n",
       "      <td>0</td>\n",
       "      <td>0</td>\n",
       "      <td>Smoke Arsenal</td>\n",
       "      <td>03.04.2024</td>\n",
       "      <td>29990000001</td>\n",
       "      <td>0</td>\n",
       "      <td>0</td>\n",
       "      <td>0</td>\n",
       "      <td>0</td>\n",
       "      <td>0</td>\n",
       "      <td>0</td>\n",
       "      <td>0</td>\n",
       "      <td>0</td>\n",
       "      <td>2024-03</td>\n",
       "    </tr>\n",
       "    <tr>\n",
       "      <th>3</th>\n",
       "      <td>505634808873</td>\n",
       "      <td>IVG Punch</td>\n",
       "      <td>05056348088731</td>\n",
       "      <td>3000 Puffs</td>\n",
       "      <td>0</td>\n",
       "      <td>0</td>\n",
       "      <td>2</td>\n",
       "      <td>10</td>\n",
       "      <td>0</td>\n",
       "      <td>0</td>\n",
       "      <td>0</td>\n",
       "      <td>0</td>\n",
       "      <td>Smoke Arsenal</td>\n",
       "      <td>06.11.2024</td>\n",
       "      <td>29990000001</td>\n",
       "      <td>40</td>\n",
       "      <td>5</td>\n",
       "      <td>20</td>\n",
       "      <td>30</td>\n",
       "      <td>75</td>\n",
       "      <td>0</td>\n",
       "      <td>0</td>\n",
       "      <td>40</td>\n",
       "      <td>2024-03</td>\n",
       "    </tr>\n",
       "    <tr>\n",
       "      <th>4</th>\n",
       "      <td>505661751113</td>\n",
       "      <td>IVG Mango Ice</td>\n",
       "      <td>05056617511137</td>\n",
       "      <td>3000 Puffs</td>\n",
       "      <td>0</td>\n",
       "      <td>0</td>\n",
       "      <td>2</td>\n",
       "      <td>10</td>\n",
       "      <td>0</td>\n",
       "      <td>0</td>\n",
       "      <td>0</td>\n",
       "      <td>0</td>\n",
       "      <td>Smoke Arsenal</td>\n",
       "      <td>06.11.2024</td>\n",
       "      <td>29990000001</td>\n",
       "      <td>40</td>\n",
       "      <td>5</td>\n",
       "      <td>20</td>\n",
       "      <td>30</td>\n",
       "      <td>75</td>\n",
       "      <td>0</td>\n",
       "      <td>0</td>\n",
       "      <td>40</td>\n",
       "      <td>2024-03</td>\n",
       "    </tr>\n",
       "    <tr>\n",
       "      <th>5</th>\n",
       "      <td>505661751203</td>\n",
       "      <td>IVG Max Mango Peach Watermelon</td>\n",
       "      <td>05056617512035</td>\n",
       "      <td>5000 Puffs</td>\n",
       "      <td>0</td>\n",
       "      <td>0</td>\n",
       "      <td>5</td>\n",
       "      <td>84.95</td>\n",
       "      <td>0</td>\n",
       "      <td>0</td>\n",
       "      <td>0</td>\n",
       "      <td>0</td>\n",
       "      <td>Smoke Arsenal</td>\n",
       "      <td>10.17.2024</td>\n",
       "      <td>MMPW1020FDR</td>\n",
       "      <td>125</td>\n",
       "      <td>16.99</td>\n",
       "      <td>25</td>\n",
       "      <td>40.05</td>\n",
       "      <td>32.04</td>\n",
       "      <td>0</td>\n",
       "      <td>0</td>\n",
       "      <td>125</td>\n",
       "      <td>2024-03</td>\n",
       "    </tr>\n",
       "    <tr>\n",
       "      <th>...</th>\n",
       "      <td>...</td>\n",
       "      <td>...</td>\n",
       "      <td>...</td>\n",
       "      <td>...</td>\n",
       "      <td>...</td>\n",
       "      <td>...</td>\n",
       "      <td>...</td>\n",
       "      <td>...</td>\n",
       "      <td>...</td>\n",
       "      <td>...</td>\n",
       "      <td>...</td>\n",
       "      <td>...</td>\n",
       "      <td>...</td>\n",
       "      <td>...</td>\n",
       "      <td>...</td>\n",
       "      <td>...</td>\n",
       "      <td>...</td>\n",
       "      <td>...</td>\n",
       "      <td>...</td>\n",
       "      <td>...</td>\n",
       "      <td>...</td>\n",
       "      <td>...</td>\n",
       "      <td>...</td>\n",
       "      <td>...</td>\n",
       "    </tr>\n",
       "    <tr>\n",
       "      <th>2889</th>\n",
       "      <td>697745490325</td>\n",
       "      <td>Geek Bar Pulse X Peach Lemon Ice</td>\n",
       "      <td>06977454903253</td>\n",
       "      <td>25000 Puffs</td>\n",
       "      <td>4</td>\n",
       "      <td>84.88</td>\n",
       "      <td>4</td>\n",
       "      <td>84.88</td>\n",
       "      <td>0</td>\n",
       "      <td>0</td>\n",
       "      <td>0</td>\n",
       "      <td>0</td>\n",
       "      <td>Maq Distributors</td>\n",
       "      <td>06.13.2025</td>\n",
       "      <td>gbv1317b-fd</td>\n",
       "      <td>168</td>\n",
       "      <td>21.22</td>\n",
       "      <td>42</td>\n",
       "      <td>83.12</td>\n",
       "      <td>49.48</td>\n",
       "      <td>0</td>\n",
       "      <td>0</td>\n",
       "      <td>168</td>\n",
       "      <td>2025-06</td>\n",
       "    </tr>\n",
       "    <tr>\n",
       "      <th>2890</th>\n",
       "      <td>697745490329</td>\n",
       "      <td>Geek Bar Pulse X Apple Kiwi Ice</td>\n",
       "      <td>06977454903291</td>\n",
       "      <td>25000 Puffs</td>\n",
       "      <td>4</td>\n",
       "      <td>84.88</td>\n",
       "      <td>4</td>\n",
       "      <td>84.88</td>\n",
       "      <td>0</td>\n",
       "      <td>0</td>\n",
       "      <td>0</td>\n",
       "      <td>0</td>\n",
       "      <td>Maq Distributors</td>\n",
       "      <td>06.13.2025</td>\n",
       "      <td>gbv1312b-fd</td>\n",
       "      <td>168</td>\n",
       "      <td>21.22</td>\n",
       "      <td>42</td>\n",
       "      <td>83.12</td>\n",
       "      <td>49.48</td>\n",
       "      <td>0</td>\n",
       "      <td>0</td>\n",
       "      <td>168</td>\n",
       "      <td>2025-06</td>\n",
       "    </tr>\n",
       "    <tr>\n",
       "      <th>2891</th>\n",
       "      <td>697745490331</td>\n",
       "      <td>Geek Bar Pulse X Razz Mango Ice</td>\n",
       "      <td>06977454903314</td>\n",
       "      <td>25000 Puffs</td>\n",
       "      <td>4</td>\n",
       "      <td>84.88</td>\n",
       "      <td>4</td>\n",
       "      <td>84.88</td>\n",
       "      <td>0</td>\n",
       "      <td>0</td>\n",
       "      <td>0</td>\n",
       "      <td>0</td>\n",
       "      <td>Maq Distributors</td>\n",
       "      <td>06.13.2025</td>\n",
       "      <td>gbv1319b-fd</td>\n",
       "      <td>168</td>\n",
       "      <td>21.22</td>\n",
       "      <td>42</td>\n",
       "      <td>83.12</td>\n",
       "      <td>49.48</td>\n",
       "      <td>0</td>\n",
       "      <td>0</td>\n",
       "      <td>168</td>\n",
       "      <td>2025-06</td>\n",
       "    </tr>\n",
       "    <tr>\n",
       "      <th>2892</th>\n",
       "      <td>697745490333</td>\n",
       "      <td>Geek Bar Pulse X Strawnana Orange Ice</td>\n",
       "      <td>06977454903338</td>\n",
       "      <td>25000 Puffs</td>\n",
       "      <td>4</td>\n",
       "      <td>84.88</td>\n",
       "      <td>4</td>\n",
       "      <td>84.88</td>\n",
       "      <td>0</td>\n",
       "      <td>0</td>\n",
       "      <td>0</td>\n",
       "      <td>0</td>\n",
       "      <td>Maq Distributors</td>\n",
       "      <td>06.13.2025</td>\n",
       "      <td>gbv1321b-fd</td>\n",
       "      <td>168</td>\n",
       "      <td>21.22</td>\n",
       "      <td>42</td>\n",
       "      <td>83.12</td>\n",
       "      <td>49.48</td>\n",
       "      <td>0</td>\n",
       "      <td>0</td>\n",
       "      <td>168</td>\n",
       "      <td>2025-06</td>\n",
       "    </tr>\n",
       "    <tr>\n",
       "      <th>2893</th>\n",
       "      <td>697745490335</td>\n",
       "      <td>Geekbar Pulse X Mango Peach Ice</td>\n",
       "      <td>06977454903352</td>\n",
       "      <td>25000 Puffs</td>\n",
       "      <td>4</td>\n",
       "      <td>84.88</td>\n",
       "      <td>4</td>\n",
       "      <td>84.88</td>\n",
       "      <td>-1</td>\n",
       "      <td>-21.22</td>\n",
       "      <td>-42</td>\n",
       "      <td>0</td>\n",
       "      <td>Maq Distributors</td>\n",
       "      <td>06.13.2025</td>\n",
       "      <td>gbv1316b-fd</td>\n",
       "      <td>168</td>\n",
       "      <td>21.22</td>\n",
       "      <td>42</td>\n",
       "      <td>83.12</td>\n",
       "      <td>49.48</td>\n",
       "      <td>0</td>\n",
       "      <td>0</td>\n",
       "      <td>168</td>\n",
       "      <td>2025-06</td>\n",
       "    </tr>\n",
       "  </tbody>\n",
       "</table>\n",
       "<p>2878 rows × 24 columns</p>\n",
       "</div>"
      ],
      "text/plain": [
       "               UPC                              Item Name             GTIN  \\\n",
       "1      69158402237               Stlth Type-C Black Metal   00691584022375   \n",
       "2      69158402243        Stlth Type-C Device Green Metal   00691584022436   \n",
       "3     505634808873                              IVG Punch   05056348088731   \n",
       "4     505661751113                          IVG Mango Ice   05056617511137   \n",
       "5     505661751203         IVG Max Mango Peach Watermelon   05056617512035   \n",
       "...            ...                                    ...              ...   \n",
       "2889  697745490325       Geek Bar Pulse X Peach Lemon Ice   06977454903253   \n",
       "2890  697745490329        Geek Bar Pulse X Apple Kiwi Ice   06977454903291   \n",
       "2891  697745490331        Geek Bar Pulse X Razz Mango Ice   06977454903314   \n",
       "2892  697745490333  Geek Bar Pulse X Strawnana Orange Ice   06977454903338   \n",
       "2893  697745490335        Geekbar Pulse X Mango Peach Ice   06977454903352   \n",
       "\n",
       "             Size  Purch QTY Purch Amount,$  QTY Cost,$  QTY, On Hand  \\\n",
       "1              EA          5          37.45    0      0             0   \n",
       "2              EA          5          37.45    0      0             0   \n",
       "3      3000 Puffs          0              0    2     10             0   \n",
       "4      3000 Puffs          0              0    2     10             0   \n",
       "5      5000 Puffs          0              0    5  84.95             0   \n",
       "...           ...        ...            ...  ...    ...           ...   \n",
       "2889  25000 Puffs          4          84.88    4  84.88             0   \n",
       "2890  25000 Puffs          4          84.88    4  84.88             0   \n",
       "2891  25000 Puffs          4          84.88    4  84.88             0   \n",
       "2892  25000 Puffs          4          84.88    4  84.88             0   \n",
       "2893  25000 Puffs          4          84.88    4  84.88            -1   \n",
       "\n",
       "     Cost, On Hand,$ Retail, On Hand,$ Buydown by Purch,$            Vendor  \\\n",
       "1                  0                 0                  0     Smoke Arsenal   \n",
       "2                  0                 0                  0     Smoke Arsenal   \n",
       "3                  0                 0                  0     Smoke Arsenal   \n",
       "4                  0                 0                  0     Smoke Arsenal   \n",
       "5                  0                 0                  0     Smoke Arsenal   \n",
       "...              ...               ...                ...               ...   \n",
       "2889               0                 0                  0  Maq Distributors   \n",
       "2890               0                 0                  0  Maq Distributors   \n",
       "2891               0                 0                  0  Maq Distributors   \n",
       "2892               0                 0                  0  Maq Distributors   \n",
       "2893          -21.22               -42                  0  Maq Distributors   \n",
       "\n",
       "     Last Purch date          VIN Retail,$ Unit Cost,$ Unit Retail,$ Profit,$  \\\n",
       "1         08.30.2024  29990000001        0           0             0        0   \n",
       "2         03.04.2024  29990000001        0           0             0        0   \n",
       "3         06.11.2024  29990000001       40           5            20       30   \n",
       "4         06.11.2024  29990000001       40           5            20       30   \n",
       "5         10.17.2024  MMPW1020FDR      125       16.99            25    40.05   \n",
       "...              ...          ...      ...         ...           ...      ...   \n",
       "2889      06.13.2025  gbv1317b-fd      168       21.22            42    83.12   \n",
       "2890      06.13.2025  gbv1312b-fd      168       21.22            42    83.12   \n",
       "2891      06.13.2025  gbv1319b-fd      168       21.22            42    83.12   \n",
       "2892      06.13.2025  gbv1321b-fd      168       21.22            42    83.12   \n",
       "2893      06.13.2025  gbv1316b-fd      168       21.22            42    83.12   \n",
       "\n",
       "       GPM% Non-itemized Sales,$ Buydown by Sales,$ Total,$    Month  \n",
       "1         0                    0                  0       0  2024-03  \n",
       "2         0                    0                  0       0  2024-03  \n",
       "3        75                    0                  0      40  2024-03  \n",
       "4        75                    0                  0      40  2024-03  \n",
       "5     32.04                    0                  0     125  2024-03  \n",
       "...     ...                  ...                ...     ...      ...  \n",
       "2889  49.48                    0                  0     168  2025-06  \n",
       "2890  49.48                    0                  0     168  2025-06  \n",
       "2891  49.48                    0                  0     168  2025-06  \n",
       "2892  49.48                    0                  0     168  2025-06  \n",
       "2893  49.48                    0                  0     168  2025-06  \n",
       "\n",
       "[2878 rows x 24 columns]"
      ]
     },
     "execution_count": 326,
     "metadata": {},
     "output_type": "execute_result"
    }
   ],
   "source": [
    "df_processed"
   ]
  },
  {
   "cell_type": "markdown",
   "id": "76b640ef-b6f9-488a-b05b-6423d38d4afc",
   "metadata": {},
   "source": [
    "## Filter Vendor"
   ]
  },
  {
   "cell_type": "code",
   "execution_count": 327,
   "id": "910be491-fdeb-49f4-8662-1e1a0d810097",
   "metadata": {},
   "outputs": [],
   "source": [
    "# Vapes\n",
    "# 1. Rankin\n",
    "    # a. G-Core\n",
    "    # b. Fog Formula\n",
    "    # c. Smoke Tokes\n",
    "    # d. Maq Distribution\n",
    " \n",
    "# 2. Walpole\n",
    "    # a. Smoke Tokes\n",
    "    # b. Maq Distribution\n",
    " \n",
    "# 3. Fort Frances\n",
    "    # a. G-Core\n",
    "    # b. Fog Formula\n",
    "    # c. Smoke Tokes\n",
    "    # d. Maq Distribution\n",
    " \n",
    "# 4. Silver Grizzly\n",
    "    # a. G-Core\n",
    "    # b. Fog Formula\n",
    "    # c. Smoke Tokes\n",
    "    # d. Maq Distribution\n",
    " \n",
    " \n",
    "# Cannabis\n",
    "# 1. Silver Grizzly\n",
    "\n",
    "    # a. Proulx Commercial Growers\n",
    "    # b. Cannabis Soda Co.\n",
    "    # c. Native Flower"
   ]
  },
  {
   "cell_type": "code",
   "execution_count": 328,
   "id": "de578cd1-591d-49a8-9123-ba71f433975c",
   "metadata": {},
   "outputs": [
    {
     "data": {
      "text/plain": [
       "array(['Smoke Arsenal', nan, 'Fog Formulas', 'Smoke Tokes',\n",
       "       'G-Core Canada', 'Maq Distributors', 'Core-Mark'], dtype=object)"
      ]
     },
     "execution_count": 328,
     "metadata": {},
     "output_type": "execute_result"
    }
   ],
   "source": [
    "df_processed['Vendor'].unique()"
   ]
  },
  {
   "cell_type": "code",
   "execution_count": 19,
   "id": "b80c2c79-2858-4192-a892-9507e29d498a",
   "metadata": {},
   "outputs": [],
   "source": [
    "target_vendor = 'G-Core Canada'"
   ]
  },
  {
   "cell_type": "code",
   "execution_count": 259,
   "id": "93741a5d-1158-4ed8-855b-b6585e25feaa",
   "metadata": {},
   "outputs": [],
   "source": [
    "target_vendor = 'Core-Mark'"
   ]
  },
  {
   "cell_type": "code",
   "execution_count": 329,
   "id": "56d49520-b517-4d25-9977-9dbb3fa3747e",
   "metadata": {},
   "outputs": [],
   "source": [
    "target_vendor = 'Maq Distributors'"
   ]
  },
  {
   "cell_type": "markdown",
   "id": "99b84a44-8417-4611-a9ff-bd0e0ce138a6",
   "metadata": {},
   "source": [
    "## Create Pivot table"
   ]
  },
  {
   "cell_type": "code",
   "execution_count": 330,
   "id": "f563523c-ae9b-4105-8201-af7ebe6c9039",
   "metadata": {},
   "outputs": [],
   "source": [
    "df_pivot, unique_months = get_vendor_pivot_table(df_processed, target_vendor)"
   ]
  },
  {
   "cell_type": "markdown",
   "id": "23828cec-6831-4a23-b8f8-a285562a0a06",
   "metadata": {},
   "source": [
    "### Update QTY, On Hand"
   ]
  },
  {
   "cell_type": "code",
   "execution_count": 331,
   "id": "c1d62860-69bd-41ab-9871-d86f6b9db4ad",
   "metadata": {},
   "outputs": [],
   "source": [
    "df_pivot = update_on_hand_qty(df_pivot, unique_months)"
   ]
  },
  {
   "cell_type": "markdown",
   "id": "22931356-dab3-4ba2-bbc8-1427c8f9f1b8",
   "metadata": {},
   "source": [
    "### Add LIQ %"
   ]
  },
  {
   "cell_type": "code",
   "execution_count": 332,
   "id": "83aefd18-4c18-45a8-9665-cb3c39b63034",
   "metadata": {},
   "outputs": [],
   "source": [
    "df_pivot = add_liq_percent(df_pivot, unique_months)"
   ]
  },
  {
   "cell_type": "markdown",
   "id": "25a33376-c481-4b01-beca-6117a8436b87",
   "metadata": {},
   "source": [
    "### Add Sale QTY"
   ]
  },
  {
   "cell_type": "code",
   "execution_count": 333,
   "id": "394c9b6f-eaf6-4044-9e1f-3c1b3f1ee007",
   "metadata": {},
   "outputs": [],
   "source": [
    "df_pivot = add_sale_qty(df_pivot, unique_months)"
   ]
  },
  {
   "cell_type": "markdown",
   "id": "7e286f55-d162-4fc6-91f9-bfdf6d0bbae8",
   "metadata": {},
   "source": [
    "### Add Shelf Life"
   ]
  },
  {
   "cell_type": "code",
   "execution_count": 334,
   "id": "8cb32390-11a5-4591-aa1a-a680d2c894f4",
   "metadata": {},
   "outputs": [],
   "source": [
    "df_pivot = add_shelf_life(df_pivot, unique_months)"
   ]
  },
  {
   "cell_type": "markdown",
   "id": "0cf2f534-a3b9-442f-98a0-71ae9ae6273e",
   "metadata": {},
   "source": [
    "### Add Avg Sales/Mnth"
   ]
  },
  {
   "cell_type": "code",
   "execution_count": 335,
   "id": "b60abbd2-0f0e-4339-ae4e-d3cba397c045",
   "metadata": {},
   "outputs": [],
   "source": [
    "df_pivot = add_avg_sales_per_month(df_pivot)"
   ]
  },
  {
   "cell_type": "markdown",
   "id": "a42fff28-7fd7-472f-bfc8-3243b0b3675d",
   "metadata": {},
   "source": [
    "### Add Bi-Weekly Sale Fsct"
   ]
  },
  {
   "cell_type": "code",
   "execution_count": 336,
   "id": "13cfdd32-3d81-48bf-989a-b9a1127d67c9",
   "metadata": {},
   "outputs": [],
   "source": [
    "df_pivot = add_bi_weekly_sale_forecasting(df_pivot)"
   ]
  },
  {
   "cell_type": "markdown",
   "id": "96659fe0-06a3-405e-a746-6ba62f4f9658",
   "metadata": {},
   "source": [
    "### Add Safety STK"
   ]
  },
  {
   "cell_type": "code",
   "execution_count": 337,
   "id": "670c2060-9d10-4d08-b2dc-51658d16827f",
   "metadata": {},
   "outputs": [],
   "source": [
    "df_pivot = add_safety_stock(df_pivot)"
   ]
  },
  {
   "cell_type": "markdown",
   "id": "ed006e9c-e2f7-4671-a9f6-21e6a80b2a56",
   "metadata": {},
   "source": [
    "### Order"
   ]
  },
  {
   "cell_type": "code",
   "execution_count": 338,
   "id": "5357f9c3-b328-44a1-82db-3e4baf6c28ac",
   "metadata": {},
   "outputs": [],
   "source": [
    "latest_month = unique_months.max()"
   ]
  },
  {
   "cell_type": "code",
   "execution_count": 339,
   "id": "9f242551-c88d-4bc3-9d8f-0c17c5fdf19d",
   "metadata": {},
   "outputs": [],
   "source": [
    "df_pivot = add_order(df_pivot, latest_month)"
   ]
  },
  {
   "cell_type": "code",
   "execution_count": 340,
   "id": "dcf62a66-0032-45af-8d33-56e22ddf333f",
   "metadata": {},
   "outputs": [],
   "source": [
    "# sorting\n",
    "df_pivot = df_pivot.sort_values(by = 'Avg Sales/Mnth', ascending = False)"
   ]
  },
  {
   "cell_type": "code",
   "execution_count": 341,
   "id": "e54ac889-f696-47ca-b968-5342b5089ee8",
   "metadata": {},
   "outputs": [],
   "source": [
    "# # export\n",
    "# df_pivot.to_csv('df_pivot.csv')"
   ]
  },
  {
   "cell_type": "code",
   "execution_count": 342,
   "id": "73b3060a-cc73-4ec6-a87b-3e018d96e46a",
   "metadata": {},
   "outputs": [],
   "source": [
    "df_pivot.to_excel('output.xlsx', sheet_name='document_formatted')"
   ]
  },
  {
   "cell_type": "code",
   "execution_count": null,
   "id": "ec73bf6e-34be-41d8-8766-2a4f07758e91",
   "metadata": {},
   "outputs": [],
   "source": []
  },
  {
   "cell_type": "code",
   "execution_count": null,
   "id": "76400cb2-9187-40ff-a501-b6ceae5bb492",
   "metadata": {},
   "outputs": [],
   "source": []
  },
  {
   "cell_type": "code",
   "execution_count": null,
   "id": "27cd63b0-f701-4363-a31c-5f2e6af912fd",
   "metadata": {},
   "outputs": [],
   "source": []
  },
  {
   "cell_type": "code",
   "execution_count": 278,
   "id": "8225599a-4129-4974-9ec0-e0fe9393e5be",
   "metadata": {},
   "outputs": [
    {
     "data": {
      "text/plain": [
       "1"
      ]
     },
     "execution_count": 278,
     "metadata": {},
     "output_type": "execute_result"
    }
   ],
   "source": [
    "df_processed[df_processed['Vendor'] == target_vendor]['Item Name'].nunique()"
   ]
  }
 ],
 "metadata": {
  "kernelspec": {
   "display_name": "Python [conda env:base] *",
   "language": "python",
   "name": "conda-base-py"
  },
  "language_info": {
   "codemirror_mode": {
    "name": "ipython",
    "version": 3
   },
   "file_extension": ".py",
   "mimetype": "text/x-python",
   "name": "python",
   "nbconvert_exporter": "python",
   "pygments_lexer": "ipython3",
   "version": "3.13.5"
  }
 },
 "nbformat": 4,
 "nbformat_minor": 5
}
